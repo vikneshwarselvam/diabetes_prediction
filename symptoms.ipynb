{
 "cells": [
  {
   "cell_type": "code",
   "execution_count": null,
   "metadata": {},
   "outputs": [],
   "source": [
    "import numpy as np\n",
    "import matplotlib.pyplot as plt\n",
    "import pandas as pd"
   ]
  },
  {
   "cell_type": "code",
   "execution_count": null,
   "metadata": {},
   "outputs": [],
   "source": [
    "data_path='data_pivoted.csv'\n",
    "diabetes=pd.read_csv(data_path)\n",
    "diabetes.head(10)\n"
   ]
  },
  {
   "cell_type": "code",
   "execution_count": null,
   "metadata": {},
   "outputs": [],
   "source": [
    "from sklearn.model_selection import train_test_split\n",
    "from sklearn.metrics import mean_squared_error\n",
    "from sklearn.preprocessing import RobustScaler\n"
   ]
  },
  {
   "cell_type": "code",
   "execution_count": null,
   "metadata": {},
   "outputs": [],
   "source": [
    "target_name='disease'\n",
    "robust_scaler=RobustScaler()\n",
    "#standard_scaler=StandardScaler()\n",
    "X=diabetes.drop('disease',axis=1)\n",
    "feature_names=X.columns\n",
    "X = robust_scaler.fit_transform(X)\n",
    "#X=standard_scaler.fit_transform(X)\n",
    "y= diabetes[target_name]\n",
    "X_train,X_test,y_train,y_test=train_test_split(X,y,test_size=0.2,random_state=55)\n"
   ]
  },
  {
   "cell_type": "code",
   "execution_count": null,
   "metadata": {},
   "outputs": [],
   "source": [
    "models=pd.DataFrame(index=['train_mse','test_mse'],\n",
    "                   columns=['KNN','Bagging','RandomForest','Boosting'])\n"
   ]
  },
  {
   "cell_type": "code",
   "execution_count": null,
   "metadata": {},
   "outputs": [],
   "source": [
    "from sklearn.ensemble import BaggingRegressor\n",
    "from sklearn.neighbors import KNeighborsRegressor\n",
    "knn_for_bagging=KNeighborsRegressor(n_neighbors=20,weights='distance',metric='euclidean')\n",
    "bagging=BaggingRegressor(base_estimator=knn_for_bagging,n_estimators=15,max_features=0.75,random_state=55,n_jobs=-1)\n",
    "bagging.fit(X_train,y_train)\n",
    "models.loc['train_mse','Bagging']=mean_squared_error(y_pred=bagging.predict(X_train),y_true=y_train)\n",
    "models.loc['test_mse','Bagging']=mean_squared_error(y_pred=bagging.predict(X_test),y_true=y_test)"
   ]
  },
  {
   "cell_type": "code",
   "execution_count": null,
   "metadata": {},
   "outputs": [],
   "source": [
    "from sklearn.ensemble import RandomForestRegressor\n",
    "\n",
    "rf=RandomForestRegressor(n_estimators=50,max_depth=16,random_state=55,n_jobs=-1)\n",
    "rf.fit(X_train,y_train)\n",
    "models.loc['train_mse','RandomForest']=mean_squared_error(y_pred=rf.predict(X_train),y_true=y_train)\n",
    "models.loc['test_mse','RandomForest']=mean_squared_error(y_pred=rf.predict(X_test),y_true=y_test)\n"
   ]
  },
  {
   "cell_type": "code",
   "execution_count": null,
   "metadata": {},
   "outputs": [],
   "source": [
    "from sklearn.neighbors import KNeighborsRegressor\n",
    "knn=KNeighborsRegressor(n_neighbors=20,weights='distance',metric='euclidean',n_jobs=-1)\n",
    "knn.fit(X_train,y_train)\n",
    "models.loc['train_mse','KNN']=mean_squared_error(y_pred=knn.predict(X_train),y_true=y_train)\n",
    "models.loc['test_mse','KNN']=mean_squared_error(y_pred=knn.predict(X_test),y_true=y_test)"
   ]
  },
  {
   "cell_type": "code",
   "execution_count": null,
   "metadata": {},
   "outputs": [],
   "source": [
    "from sklearn.ensemble import AdaBoostRegressor\n",
    "boosting=AdaBoostRegressor(n_estimators=50,learning_rate=0.05,random_state=55)\n",
    "\n",
    "boosting.fit(X_train,y_train)\n",
    "models.loc['train_mse','Boosting']=mean_squared_error(y_pred=boosting.predict(X_train),y_true=y_train)\n",
    "models.loc['test_mse','Boosting']=mean_squared_error(y_pred=boosting.predict(X_test),y_true=y_test)"
   ]
  },
  {
   "cell_type": "code",
   "execution_count": null,
   "metadata": {},
   "outputs": [],
   "source": [
    "models\n"
   ]
  },
  {
   "cell_type": "code",
   "execution_count": null,
   "metadata": {},
   "outputs": [],
   "source": [
    "fig,ax=plt.subplots(figsize=(8,5))\n",
    "models.loc['test_mse'].sort_values().plot(kind='barh',ax=ax)\n",
    "ax.set_title('Test MSE for Regression Models')\n"
   ]
  },
  {
   "cell_type": "code",
   "execution_count": null,
   "metadata": {},
   "outputs": [],
   "source": [
    "n_pred=10\n",
    "ind_pred=rf.predict(X_test[:n_pred,])\n",
    "print('Real details,Predicted details :')\n",
    "for i,pred in enumerate(ind_pred):\n",
    "       print ('Pred: {0} Really:{1}'.format(y_test.values[i], pred,sep=''))"
   ]
  },
  {
   "cell_type": "markdown",
   "metadata": {},
   "source": [
    "\n",
    "pred=input('Enter the index')\n",
    "int_pred=int(pred)\n",
    "pred_ind=rf.predict(X_test[int_pred:int_pred+1,])\n",
    "#final_pred=enumerate(pred_ind)\n",
    "for pred1 in enumerate(pred_ind):\n",
    "    print(round(pred_ind))"
   ]
  },
  {
   "cell_type": "code",
   "execution_count": null,
   "metadata": {},
   "outputs": [],
   "source": [
    "npred=input('Enter the index :')\n",
    "n_pred=int(npred)\n",
    "ind_pred=rf.predict(X_test[n_pred-1:n_pred,])\n",
    "print('Real details,Predicted details :')\n",
    "for i,pred in enumerate(ind_pred):\n",
    "       print ('Pred: {0} Really:{1}'.format(y_test.values[i], pred,sep=''))"
   ]
  },
  {
   "cell_type": "code",
   "execution_count": null,
   "metadata": {},
   "outputs": [],
   "source": []
  }
 ],
 "metadata": {
  "kernelspec": {
   "display_name": "Python 3",
   "language": "python",
   "name": "python3"
  },
  "language_info": {
   "codemirror_mode": {
    "name": "ipython",
    "version": 3
   },
   "file_extension": ".py",
   "mimetype": "text/x-python",
   "name": "python",
   "nbconvert_exporter": "python",
   "pygments_lexer": "ipython3",
   "version": "3.7.2+"
  }
 },
 "nbformat": 4,
 "nbformat_minor": 2
}
